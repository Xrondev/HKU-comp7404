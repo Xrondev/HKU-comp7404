{
 "cells": [
  {
   "cell_type": "code",
   "execution_count": 6,
   "metadata": {
    "collapsed": true,
    "jupyter": {
     "outputs_hidden": true
    },
    "ExecuteTime": {
     "end_time": "2023-11-08T12:40:54.594380Z",
     "start_time": "2023-11-08T12:40:54.580615300Z"
    }
   },
   "outputs": [],
   "source": [
    "import numpy as np\n",
    "import pandas as pd\n",
    "\n",
    "wbcd_dataset = pd.read_csv('./dataset/wbcd.data', header=None)\n",
    "wdbc_dataset = pd.read_csv('./dataset/wdbc.data', header=None)\n",
    "\n",
    "random_state = 0"
   ]
  },
  {
   "cell_type": "code",
   "execution_count": 7,
   "metadata": {
    "collapsed": false,
    "jupyter": {
     "outputs_hidden": false
    },
    "ExecuteTime": {
     "end_time": "2023-11-08T12:40:55.062552600Z",
     "start_time": "2023-11-08T12:40:55.027132700Z"
    }
   },
   "outputs": [
    {
     "data": {
      "text/plain": "        0   1   2   3   4   5   6   7   8   9   10\n0  1000025   5   1   1   1   2   1   3   1   1   2\n1  1002945   5   4   4   5   7  10   3   2   1   2\n2  1015425   3   1   1   1   2   2   3   1   1   2\n3  1016277   6   8   8   1   3   4   3   7   1   2\n4  1017023   4   1   1   3   2   1   3   1   1   2",
      "text/html": "<div>\n<style scoped>\n    .dataframe tbody tr th:only-of-type {\n        vertical-align: middle;\n    }\n\n    .dataframe tbody tr th {\n        vertical-align: top;\n    }\n\n    .dataframe thead th {\n        text-align: right;\n    }\n</style>\n<table border=\"1\" class=\"dataframe\">\n  <thead>\n    <tr style=\"text-align: right;\">\n      <th></th>\n      <th>0</th>\n      <th>1</th>\n      <th>2</th>\n      <th>3</th>\n      <th>4</th>\n      <th>5</th>\n      <th>6</th>\n      <th>7</th>\n      <th>8</th>\n      <th>9</th>\n      <th>10</th>\n    </tr>\n  </thead>\n  <tbody>\n    <tr>\n      <th>0</th>\n      <td>1000025</td>\n      <td>5</td>\n      <td>1</td>\n      <td>1</td>\n      <td>1</td>\n      <td>2</td>\n      <td>1</td>\n      <td>3</td>\n      <td>1</td>\n      <td>1</td>\n      <td>2</td>\n    </tr>\n    <tr>\n      <th>1</th>\n      <td>1002945</td>\n      <td>5</td>\n      <td>4</td>\n      <td>4</td>\n      <td>5</td>\n      <td>7</td>\n      <td>10</td>\n      <td>3</td>\n      <td>2</td>\n      <td>1</td>\n      <td>2</td>\n    </tr>\n    <tr>\n      <th>2</th>\n      <td>1015425</td>\n      <td>3</td>\n      <td>1</td>\n      <td>1</td>\n      <td>1</td>\n      <td>2</td>\n      <td>2</td>\n      <td>3</td>\n      <td>1</td>\n      <td>1</td>\n      <td>2</td>\n    </tr>\n    <tr>\n      <th>3</th>\n      <td>1016277</td>\n      <td>6</td>\n      <td>8</td>\n      <td>8</td>\n      <td>1</td>\n      <td>3</td>\n      <td>4</td>\n      <td>3</td>\n      <td>7</td>\n      <td>1</td>\n      <td>2</td>\n    </tr>\n    <tr>\n      <th>4</th>\n      <td>1017023</td>\n      <td>4</td>\n      <td>1</td>\n      <td>1</td>\n      <td>3</td>\n      <td>2</td>\n      <td>1</td>\n      <td>3</td>\n      <td>1</td>\n      <td>1</td>\n      <td>2</td>\n    </tr>\n  </tbody>\n</table>\n</div>"
     },
     "execution_count": 7,
     "metadata": {},
     "output_type": "execute_result"
    }
   ],
   "source": [
    "wbcd_dataset.head()"
   ]
  },
  {
   "cell_type": "code",
   "execution_count": 8,
   "metadata": {
    "collapsed": false,
    "jupyter": {
     "outputs_hidden": false
    },
    "ExecuteTime": {
     "end_time": "2023-11-08T12:40:55.435406700Z",
     "start_time": "2023-11-08T12:40:55.405177700Z"
    }
   },
   "outputs": [
    {
     "data": {
      "text/plain": "           0  1      2      3       4       5        6        7        8   \\\n0      842302  M  17.99  10.38  122.80  1001.0  0.11840  0.27760  0.30010   \n1      842517  M  20.57  17.77  132.90  1326.0  0.08474  0.07864  0.08690   \n2    84300903  M  19.69  21.25  130.00  1203.0  0.10960  0.15990  0.19740   \n3    84348301  M  11.42  20.38   77.58   386.1  0.14250  0.28390  0.24140   \n4    84358402  M  20.29  14.34  135.10  1297.0  0.10030  0.13280  0.19800   \n..        ... ..    ...    ...     ...     ...      ...      ...      ...   \n564    926424  M  21.56  22.39  142.00  1479.0  0.11100  0.11590  0.24390   \n565    926682  M  20.13  28.25  131.20  1261.0  0.09780  0.10340  0.14400   \n566    926954  M  16.60  28.08  108.30   858.1  0.08455  0.10230  0.09251   \n567    927241  M  20.60  29.33  140.10  1265.0  0.11780  0.27700  0.35140   \n568     92751  B   7.76  24.54   47.92   181.0  0.05263  0.04362  0.00000   \n\n          9   ...      22     23      24      25       26       27      28  \\\n0    0.14710  ...  25.380  17.33  184.60  2019.0  0.16220  0.66560  0.7119   \n1    0.07017  ...  24.990  23.41  158.80  1956.0  0.12380  0.18660  0.2416   \n2    0.12790  ...  23.570  25.53  152.50  1709.0  0.14440  0.42450  0.4504   \n3    0.10520  ...  14.910  26.50   98.87   567.7  0.20980  0.86630  0.6869   \n4    0.10430  ...  22.540  16.67  152.20  1575.0  0.13740  0.20500  0.4000   \n..       ...  ...     ...    ...     ...     ...      ...      ...     ...   \n564  0.13890  ...  25.450  26.40  166.10  2027.0  0.14100  0.21130  0.4107   \n565  0.09791  ...  23.690  38.25  155.00  1731.0  0.11660  0.19220  0.3215   \n566  0.05302  ...  18.980  34.12  126.70  1124.0  0.11390  0.30940  0.3403   \n567  0.15200  ...  25.740  39.42  184.60  1821.0  0.16500  0.86810  0.9387   \n568  0.00000  ...   9.456  30.37   59.16   268.6  0.08996  0.06444  0.0000   \n\n         29      30       31  \n0    0.2654  0.4601  0.11890  \n1    0.1860  0.2750  0.08902  \n2    0.2430  0.3613  0.08758  \n3    0.2575  0.6638  0.17300  \n4    0.1625  0.2364  0.07678  \n..      ...     ...      ...  \n564  0.2216  0.2060  0.07115  \n565  0.1628  0.2572  0.06637  \n566  0.1418  0.2218  0.07820  \n567  0.2650  0.4087  0.12400  \n568  0.0000  0.2871  0.07039  \n\n[569 rows x 32 columns]",
      "text/html": "<div>\n<style scoped>\n    .dataframe tbody tr th:only-of-type {\n        vertical-align: middle;\n    }\n\n    .dataframe tbody tr th {\n        vertical-align: top;\n    }\n\n    .dataframe thead th {\n        text-align: right;\n    }\n</style>\n<table border=\"1\" class=\"dataframe\">\n  <thead>\n    <tr style=\"text-align: right;\">\n      <th></th>\n      <th>0</th>\n      <th>1</th>\n      <th>2</th>\n      <th>3</th>\n      <th>4</th>\n      <th>5</th>\n      <th>6</th>\n      <th>7</th>\n      <th>8</th>\n      <th>9</th>\n      <th>...</th>\n      <th>22</th>\n      <th>23</th>\n      <th>24</th>\n      <th>25</th>\n      <th>26</th>\n      <th>27</th>\n      <th>28</th>\n      <th>29</th>\n      <th>30</th>\n      <th>31</th>\n    </tr>\n  </thead>\n  <tbody>\n    <tr>\n      <th>0</th>\n      <td>842302</td>\n      <td>M</td>\n      <td>17.99</td>\n      <td>10.38</td>\n      <td>122.80</td>\n      <td>1001.0</td>\n      <td>0.11840</td>\n      <td>0.27760</td>\n      <td>0.30010</td>\n      <td>0.14710</td>\n      <td>...</td>\n      <td>25.380</td>\n      <td>17.33</td>\n      <td>184.60</td>\n      <td>2019.0</td>\n      <td>0.16220</td>\n      <td>0.66560</td>\n      <td>0.7119</td>\n      <td>0.2654</td>\n      <td>0.4601</td>\n      <td>0.11890</td>\n    </tr>\n    <tr>\n      <th>1</th>\n      <td>842517</td>\n      <td>M</td>\n      <td>20.57</td>\n      <td>17.77</td>\n      <td>132.90</td>\n      <td>1326.0</td>\n      <td>0.08474</td>\n      <td>0.07864</td>\n      <td>0.08690</td>\n      <td>0.07017</td>\n      <td>...</td>\n      <td>24.990</td>\n      <td>23.41</td>\n      <td>158.80</td>\n      <td>1956.0</td>\n      <td>0.12380</td>\n      <td>0.18660</td>\n      <td>0.2416</td>\n      <td>0.1860</td>\n      <td>0.2750</td>\n      <td>0.08902</td>\n    </tr>\n    <tr>\n      <th>2</th>\n      <td>84300903</td>\n      <td>M</td>\n      <td>19.69</td>\n      <td>21.25</td>\n      <td>130.00</td>\n      <td>1203.0</td>\n      <td>0.10960</td>\n      <td>0.15990</td>\n      <td>0.19740</td>\n      <td>0.12790</td>\n      <td>...</td>\n      <td>23.570</td>\n      <td>25.53</td>\n      <td>152.50</td>\n      <td>1709.0</td>\n      <td>0.14440</td>\n      <td>0.42450</td>\n      <td>0.4504</td>\n      <td>0.2430</td>\n      <td>0.3613</td>\n      <td>0.08758</td>\n    </tr>\n    <tr>\n      <th>3</th>\n      <td>84348301</td>\n      <td>M</td>\n      <td>11.42</td>\n      <td>20.38</td>\n      <td>77.58</td>\n      <td>386.1</td>\n      <td>0.14250</td>\n      <td>0.28390</td>\n      <td>0.24140</td>\n      <td>0.10520</td>\n      <td>...</td>\n      <td>14.910</td>\n      <td>26.50</td>\n      <td>98.87</td>\n      <td>567.7</td>\n      <td>0.20980</td>\n      <td>0.86630</td>\n      <td>0.6869</td>\n      <td>0.2575</td>\n      <td>0.6638</td>\n      <td>0.17300</td>\n    </tr>\n    <tr>\n      <th>4</th>\n      <td>84358402</td>\n      <td>M</td>\n      <td>20.29</td>\n      <td>14.34</td>\n      <td>135.10</td>\n      <td>1297.0</td>\n      <td>0.10030</td>\n      <td>0.13280</td>\n      <td>0.19800</td>\n      <td>0.10430</td>\n      <td>...</td>\n      <td>22.540</td>\n      <td>16.67</td>\n      <td>152.20</td>\n      <td>1575.0</td>\n      <td>0.13740</td>\n      <td>0.20500</td>\n      <td>0.4000</td>\n      <td>0.1625</td>\n      <td>0.2364</td>\n      <td>0.07678</td>\n    </tr>\n    <tr>\n      <th>...</th>\n      <td>...</td>\n      <td>...</td>\n      <td>...</td>\n      <td>...</td>\n      <td>...</td>\n      <td>...</td>\n      <td>...</td>\n      <td>...</td>\n      <td>...</td>\n      <td>...</td>\n      <td>...</td>\n      <td>...</td>\n      <td>...</td>\n      <td>...</td>\n      <td>...</td>\n      <td>...</td>\n      <td>...</td>\n      <td>...</td>\n      <td>...</td>\n      <td>...</td>\n      <td>...</td>\n    </tr>\n    <tr>\n      <th>564</th>\n      <td>926424</td>\n      <td>M</td>\n      <td>21.56</td>\n      <td>22.39</td>\n      <td>142.00</td>\n      <td>1479.0</td>\n      <td>0.11100</td>\n      <td>0.11590</td>\n      <td>0.24390</td>\n      <td>0.13890</td>\n      <td>...</td>\n      <td>25.450</td>\n      <td>26.40</td>\n      <td>166.10</td>\n      <td>2027.0</td>\n      <td>0.14100</td>\n      <td>0.21130</td>\n      <td>0.4107</td>\n      <td>0.2216</td>\n      <td>0.2060</td>\n      <td>0.07115</td>\n    </tr>\n    <tr>\n      <th>565</th>\n      <td>926682</td>\n      <td>M</td>\n      <td>20.13</td>\n      <td>28.25</td>\n      <td>131.20</td>\n      <td>1261.0</td>\n      <td>0.09780</td>\n      <td>0.10340</td>\n      <td>0.14400</td>\n      <td>0.09791</td>\n      <td>...</td>\n      <td>23.690</td>\n      <td>38.25</td>\n      <td>155.00</td>\n      <td>1731.0</td>\n      <td>0.11660</td>\n      <td>0.19220</td>\n      <td>0.3215</td>\n      <td>0.1628</td>\n      <td>0.2572</td>\n      <td>0.06637</td>\n    </tr>\n    <tr>\n      <th>566</th>\n      <td>926954</td>\n      <td>M</td>\n      <td>16.60</td>\n      <td>28.08</td>\n      <td>108.30</td>\n      <td>858.1</td>\n      <td>0.08455</td>\n      <td>0.10230</td>\n      <td>0.09251</td>\n      <td>0.05302</td>\n      <td>...</td>\n      <td>18.980</td>\n      <td>34.12</td>\n      <td>126.70</td>\n      <td>1124.0</td>\n      <td>0.11390</td>\n      <td>0.30940</td>\n      <td>0.3403</td>\n      <td>0.1418</td>\n      <td>0.2218</td>\n      <td>0.07820</td>\n    </tr>\n    <tr>\n      <th>567</th>\n      <td>927241</td>\n      <td>M</td>\n      <td>20.60</td>\n      <td>29.33</td>\n      <td>140.10</td>\n      <td>1265.0</td>\n      <td>0.11780</td>\n      <td>0.27700</td>\n      <td>0.35140</td>\n      <td>0.15200</td>\n      <td>...</td>\n      <td>25.740</td>\n      <td>39.42</td>\n      <td>184.60</td>\n      <td>1821.0</td>\n      <td>0.16500</td>\n      <td>0.86810</td>\n      <td>0.9387</td>\n      <td>0.2650</td>\n      <td>0.4087</td>\n      <td>0.12400</td>\n    </tr>\n    <tr>\n      <th>568</th>\n      <td>92751</td>\n      <td>B</td>\n      <td>7.76</td>\n      <td>24.54</td>\n      <td>47.92</td>\n      <td>181.0</td>\n      <td>0.05263</td>\n      <td>0.04362</td>\n      <td>0.00000</td>\n      <td>0.00000</td>\n      <td>...</td>\n      <td>9.456</td>\n      <td>30.37</td>\n      <td>59.16</td>\n      <td>268.6</td>\n      <td>0.08996</td>\n      <td>0.06444</td>\n      <td>0.0000</td>\n      <td>0.0000</td>\n      <td>0.2871</td>\n      <td>0.07039</td>\n    </tr>\n  </tbody>\n</table>\n<p>569 rows × 32 columns</p>\n</div>"
     },
     "execution_count": 8,
     "metadata": {},
     "output_type": "execute_result"
    }
   ],
   "source": [
    "wdbc_dataset"
   ]
  },
  {
   "cell_type": "code",
   "execution_count": 43,
   "outputs": [
    {
     "name": "stdout",
     "output_type": "stream",
     "text": [
      "missing val ids in wdbc_dataset: RangeIndex(start=0, stop=569, step=1)\n"
     ]
    }
   ],
   "source": [
    "\n"
   ],
   "metadata": {
    "collapsed": false,
    "ExecuteTime": {
     "end_time": "2023-11-08T12:55:22.338313800Z",
     "start_time": "2023-11-08T12:55:22.321656200Z"
    }
   }
  },
  {
   "cell_type": "markdown",
   "metadata": {
    "collapsed": false,
    "jupyter": {
     "outputs_hidden": false
    }
   },
   "source": [
    "## Data preprocessing"
   ]
  },
  {
   "cell_type": "code",
   "execution_count": 9,
   "metadata": {
    "collapsed": false,
    "jupyter": {
     "outputs_hidden": false
    },
    "ExecuteTime": {
     "end_time": "2023-11-08T12:40:56.523223300Z",
     "start_time": "2023-11-08T12:40:56.505310100Z"
    }
   },
   "outputs": [
    {
     "name": "stdout",
     "output_type": "stream",
     "text": [
      "removed 16 incomplete records: [23, 40, 139, 145, 158, 164, 235, 249, 275, 292, 294, 297, 315, 321, 411, 617]\n"
     ]
    }
   ],
   "source": [
    "# wbcd_dataset\n",
    "wbcd_dataset = wbcd_dataset.drop(0, axis=1)  # drop the id column\n",
    "# if record contains ? value for any column (feature incomplete), delete the record\n",
    "incomplete_records = []\n",
    "for index, row in wbcd_dataset.iterrows():\n",
    "    if '?' in row.values:\n",
    "        incomplete_records.append(index)\n",
    "wbcd_dataset = wbcd_dataset.drop(incomplete_records, axis=0)\n",
    "print(f'removed {len(incomplete_records)} incomplete records: {incomplete_records}')"
   ]
  },
  {
   "cell_type": "code",
   "execution_count": 10,
   "metadata": {
    "collapsed": false,
    "jupyter": {
     "outputs_hidden": false
    },
    "ExecuteTime": {
     "end_time": "2023-11-08T12:40:57.164112700Z",
     "start_time": "2023-11-08T12:40:57.148818Z"
    }
   },
   "outputs": [
    {
     "name": "stdout",
     "output_type": "stream",
     "text": [
      "50-50\n",
      "Train set\n",
      "number of records: 342\n",
      "B: 219\n",
      "M: 123\n",
      "Test set\n",
      "number of records: 341\n",
      "B: 225\n",
      "M: 116\n",
      "60-40\n",
      "Train set\n",
      "number of records: 410\n",
      "B: 268\n",
      "M: 142\n",
      "Test set\n",
      "number of records: 273\n",
      "B: 176\n",
      "M: 97\n",
      "10-CV\n",
      "fold 1\n",
      "number of records: 68\n",
      "B: 46\n",
      "M: 22\n",
      "fold 2\n",
      "number of records: 68\n",
      "B: 43\n",
      "M: 25\n",
      "fold 3\n",
      "number of records: 68\n",
      "B: 42\n",
      "M: 26\n",
      "fold 4\n",
      "number of records: 68\n",
      "B: 38\n",
      "M: 30\n",
      "fold 5\n",
      "number of records: 68\n",
      "B: 45\n",
      "M: 23\n",
      "fold 6\n",
      "number of records: 68\n",
      "B: 46\n",
      "M: 22\n",
      "fold 7\n",
      "number of records: 68\n",
      "B: 43\n",
      "M: 25\n",
      "fold 8\n",
      "number of records: 68\n",
      "B: 44\n",
      "M: 24\n",
      "fold 9\n",
      "number of records: 68\n",
      "B: 42\n",
      "M: 26\n",
      "fold 10\n",
      "number of records: 68\n",
      "B: 37\n",
      "M: 31\n"
     ]
    }
   ],
   "source": [
    "# wbcd partitioning\n",
    "# 50-50\n",
    "train_50 = wbcd_dataset.sample(frac=0.5, random_state=random_state)\n",
    "test_50 = wbcd_dataset.drop(train_50.index)\n",
    "# train_50 = wbcd_dataset.iloc[:len(wbcd_dataset) // 2]\n",
    "# test_50 = wbcd_dataset.iloc[len(wbcd_dataset) // 2:]\n",
    "# 60-40\n",
    "train_60 = wbcd_dataset.sample(frac=0.6, random_state=random_state)\n",
    "test_60 = wbcd_dataset.drop(train_60.index)\n",
    "# 10-CV\n",
    "train_10cv = wbcd_dataset.copy()\n",
    "test_10cv = []\n",
    "for i in range(10):\n",
    "    test_10cv.append(train_10cv.sample(frac=0.1, random_state=(random_state + i)))\n",
    "\n",
    "wbcd_partitioned = {\n",
    "    '50-50': {\n",
    "        'train': train_50,\n",
    "        'test': test_50\n",
    "    },\n",
    "    '60-40': {\n",
    "        'train': train_60,\n",
    "        'test': test_60\n",
    "    },\n",
    "    '10-CV': {\n",
    "        'train': train_10cv,\n",
    "        'test': test_10cv\n",
    "    }\n",
    "}\n",
    "\n",
    "\n",
    "def show_wbcd_statistic_data(dataset) -> None:\n",
    "    print(f'number of records: {len(dataset)}')\n",
    "    print(f'B: {len(dataset[dataset[10] == 2])}')\n",
    "    print(f'M: {len(dataset[dataset[10] == 4])}')\n",
    "\n",
    "\n",
    "for key, val in wbcd_partitioned.items():\n",
    "    if key == '10-CV':\n",
    "        print(f'10-CV')\n",
    "        for i in range(10):\n",
    "            print(f'fold {i + 1}')\n",
    "            show_wbcd_statistic_data(val['test'][i])\n",
    "    else:\n",
    "        print(key)\n",
    "        print('Train set')\n",
    "        show_wbcd_statistic_data(val['train'])\n",
    "        print('Test set')\n",
    "        show_wbcd_statistic_data(val['test'])"
   ]
  },
  {
   "cell_type": "markdown",
   "metadata": {
    "collapsed": false,
    "jupyter": {
     "outputs_hidden": false
    }
   },
   "source": [
    "## Basic SVM"
   ]
  },
  {
   "cell_type": "code",
   "execution_count": 12,
   "metadata": {
    "collapsed": false,
    "jupyter": {
     "outputs_hidden": false
    },
    "ExecuteTime": {
     "end_time": "2023-11-08T12:41:14.018942200Z",
     "start_time": "2023-11-08T12:41:14.005452600Z"
    }
   },
   "outputs": [
    {
     "name": "stdout",
     "output_type": "stream",
     "text": [
      "50-50\n",
      "accuracy: 0.9794721407624634, sensitivity: 0.9866071428571429, specificity: 0.9658119658119658, auc: 0.9781800766283524, [2 2 4 2 2 2 2 2 2 2 4 2 2 2 2 2 2 4 2 4 4 4 2 4 4 4 4 4 4 2 4 4 2 4 2 4 2\n",
      " 2 2 2 4 4 4 2 2 2 2 2 2 2 4 2 4 2 4 4 4 4 2 2 2 4 4 2 2 2 4 2 2 2 2 2 4 2\n",
      " 2 4 2 4 4 2 2 4 2 4 2 4 2 2 4 4 2 2 4 4 4 2 4 2 2 2 4 2 2 4 2 2 4 4 4 2 4\n",
      " 4 2 4 4 4 4 2 4 2 2 2 4 2 4 4 4 4 2 4 4 4 2 4 4 4 4 4 4 4 2 2 4 2 4 4 2 4\n",
      " 2 4 2 4 2 2 4 2 4 2 2 4 4 2 4 2 2 4 2 2 4 2 2 2 4 4 4 2 2 4 2 2 2 2 2 2 2\n",
      " 4 2 2 2 4 2 2 2 2 2 2 2 2 2 2 2 4 2 2 2 4 2 2 2 2 4 4 2 2 2 2 2 4 2 4 4 2\n",
      " 2 2 2 4 2 2 2 2 4 2 2 4 4 2 2 2 2 2 2 2 2 2 4 4 2 2 2 2 2 4 2 2 2 2 2 2 2\n",
      " 2 2 2 2 2 2 2 2 2 4 2 4 4 4 4 2 2 2 2 2 4 4 2 2 4 4 2 4 2 2 2 2 2 4 2 2 2\n",
      " 2 2 2 2 2 2 2 2 2 2 4 4 2 2 2 2 2 2 2 2 2 2 4 2 2 2 2 2 4 2 2 2 2 2 4 2 2\n",
      " 2 2 2 2 2 2 2 2]\n"
     ]
    }
   ],
   "source": [
    "from sklearn.svm import SVC\n",
    "from sklearn.metrics import accuracy_score, confusion_matrix, roc_auc_score\n",
    "\n",
    "\n",
    "def basic_svm_fit(partition: dict, c=None, sigma=None) -> tuple[float, float, float, float]:\n",
    "    train = partition['train']\n",
    "    test = partition['test']\n",
    "    train_x = train.drop(10, axis=1)\n",
    "    train_y = train[10]\n",
    "    test_x = test.drop(10, axis=1)\n",
    "    test_y = test[10]\n",
    "    if sigma is not None:\n",
    "        gamma = 1 / (sigma ** 2)\n",
    "        svm = SVC(C=c, kernel='rbf', random_state=random_state, gamma=gamma)\n",
    "    else:\n",
    "        svm = SVC(kernel='rbf', random_state=random_state)\n",
    "    svm.fit(train_x, train_y)\n",
    "    pred_y = svm.predict(test_x)\n",
    "    acc = accuracy_score(test_y, pred_y)\n",
    "    tp, fp, fn, tn = confusion_matrix(test_y, pred_y).ravel()\n",
    "    sensitivity = tp / (tp + fn)\n",
    "    specificity = tn / (tn + fp)\n",
    "    auc = roc_auc_score(test_y, pred_y)\n",
    "    return pred_y, acc, sensitivity, specificity, auc\n",
    "\n",
    "\n",
    "# def basic_svm_fit_10cv(partition: dict) -> tuple[float, float, float, float]:\n",
    "\n",
    "print('50-50')\n",
    "c = np.random.randint(1, 1000)\n",
    "sigma = np.random.randint(1, 100)\n",
    "pred_y, acc, sensitivity, specificity, auc = basic_svm_fit(wbcd_partitioned['50-50'])\n",
    "print(f'accuracy: {acc}, sensitivity: {sensitivity}, specificity: {specificity}, auc: {auc}, {pred_y}')"
   ]
  },
  {
   "cell_type": "markdown",
   "metadata": {
    "collapsed": false,
    "jupyter": {
     "outputs_hidden": false
    }
   },
   "source": [
    "## Whales Optimization Algorithm"
   ]
  },
  {
   "cell_type": "code",
   "execution_count": 18,
   "metadata": {
    "collapsed": false,
    "jupyter": {
     "outputs_hidden": false
    },
    "ExecuteTime": {
     "end_time": "2023-11-08T04:56:55.546202700Z",
     "start_time": "2023-11-08T04:56:55.539580800Z"
    }
   },
   "outputs": [],
   "source": [
    "import matplotlib.pyplot as plt\n",
    "\n",
    "# Initialize the parameters\n",
    "# a. Foraging of prey\n",
    "n = 50  # The population size of whales\n",
    "num_classes = 2\n",
    "\n",
    "\n",
    "def initialize_population(population_size: int, c_constraint=(1, 1000), sigma_constraint=(1, 100)) -> np.ndarray:\n",
    "    \"\"\"\n",
    "    Initialize the whales population, each whale is represented by a vector of two elements (c, sigma). Both c and sigma are the hyperparameters of SVM.\n",
    "    :param population_size: number of whales\n",
    "    :param c_constraint: (C_min, C_max), default (1, 1000)\n",
    "    :param sigma_constraint: (sigma_min, sigma_max), default (1, 100)\n",
    "    :return: ndarray of shape (population_size, 2)\n",
    "    \"\"\"\n",
    "    population = np.zeros((population_size, 2))\n",
    "    for i in range(population_size):\n",
    "        population[i][0] = np.random.randint(c_constraint[0], c_constraint[1])\n",
    "        population[i][1] = np.random.randint(sigma_constraint[0], sigma_constraint[1])\n",
    "    return population\n",
    "\n",
    "\n",
    "def apply_constraint(whale, c_constraint=(1, 1000), sigma_constraint=(1, 100)) -> np.ndarray:\n",
    "    \"\"\"\n",
    "    Apply the constraints to the whale\n",
    "    :param whale: ndarray of shape (2,)\n",
    "    :param c_constraint: (C_min, C_max), default (1, 1000)\n",
    "    :param sigma_constraint: (sigma_min, sigma_max), default (1, 100)\n",
    "    :return: ndarray of shape (2,)\n",
    "    \"\"\"\n",
    "    whale[0] = np.clip(whale[0], c_constraint[0], c_constraint[1])\n",
    "    whale[1] = np.clip(whale[1], sigma_constraint[0], sigma_constraint[1])\n",
    "    return whale\n"
   ]
  },
  {
   "cell_type": "code",
   "execution_count": 19,
   "outputs": [],
   "source": [
    "rng = np.random.default_rng(seed=random_state)  # random number generator\n",
    "\n",
    "\n",
    "def whale_optimization_algorithm(partition, population, max_iteration=50, b=2, a=0.25):\n",
    "    \"\"\"\n",
    "    Whale Optimization Algorithm\n",
    "    :param partition: dataset partition\n",
    "    :param population: whales population\n",
    "    :param max_iteration: maximum number of iterations\n",
    "    :param b: variable used in Eq.2: linearly decreases from 2 (by default =2) to 0\n",
    "    :param a: *Not mentioned default value in the paper* constant to determine the spiral shape.\n",
    "    :return:\n",
    "    \"\"\"\n",
    "    b_step = b / max_iteration\n",
    "    current_iteration = 0\n",
    "\n",
    "    fitness = np.array([basic_svm_fit(partition, c, sigma)[0] for c, sigma in population])\n",
    "    best_whale = population[np.argmax(fitness)]\n",
    "    while current_iteration < max_iteration:\n",
    "        # using whales C and sigma to train SVMs and calculate the CA as fitness\n",
    "        print(best_whale)\n",
    "        for idx, whale in enumerate(population):\n",
    "            t = rng.random()\n",
    "            if t < 0.5:\n",
    "                B = 2 * b * rng.random() - b\n",
    "                if np.linalg.norm(B) < 1:\n",
    "                    # update the position by Eq.1\n",
    "                    population[idx] = whale - B * np.linalg.norm(2 * rng.random() * best_whale - whale)\n",
    "                else:\n",
    "                    # update the position by Eq.5\n",
    "                    population[idx] = population[np.random.randint(0, len(population))] - B * np.linalg.norm(2 * rng.random() * best_whale - whale)\n",
    "                    pass\n",
    "            else:\n",
    "                # update the position by Eq.4, t>=1\n",
    "                l = rng.random()\n",
    "                population[idx] = np.linalg.norm(best_whale - whale) * np.exp(a * l) * np.cos(2 * np.pi * l) + best_whale\n",
    "            # check if any search agent goes beyond the search space and amend it.\n",
    "            population[idx] = apply_constraint(population[idx])\n",
    "\n",
    "        b -= b_step\n",
    "\n",
    "        # update the fitness\n",
    "        fitness = np.array([basic_svm_fit(partition, c, sigma)[0] for c, sigma in population])\n",
    "        best_whale = population[np.argmax(fitness)]\n",
    "        current_iteration += 1\n",
    "        # Plot the population\n",
    "        # plt.scatter(population[:, 0], population[:, 1], c='b')\n",
    "        # plt.scatter(best_whale[0], best_whale[1], c='r')\n",
    "        # plt.show()\n",
    "\n",
    "    return best_whale\n"
   ],
   "metadata": {
    "collapsed": false,
    "ExecuteTime": {
     "end_time": "2023-11-08T04:56:56.183273200Z",
     "start_time": "2023-11-08T04:56:56.164747500Z"
    }
   }
  },
  {
   "cell_type": "code",
   "execution_count": 20,
   "outputs": [
    {
     "data": {
      "text/plain": "<Figure size 640x480 with 1 Axes>",
      "image/png": "[encoded data removed]"
     },
     "metadata": {},
     "output_type": "display_data"
    },
    {
     "name": "stdout",
     "output_type": "stream",
     "text": [
      "[986.  46.]\n",
      "[986.  46.]\n",
      "[321.28527593 100.        ]\n",
      "[57.50722465 57.50722465]\n",
      "[192.08319152  27.53708267]\n",
      "[192.08319152  27.53708267]\n",
      "[192.08319152  27.53708267]\n",
      "[126.17216652  30.93541023]\n",
      "[135.69333091  40.45657462]\n",
      "[113.85332598  18.74475252]\n",
      "[22.13308537 22.13308537]\n",
      "[20.89479943 20.89479943]\n",
      "[20.89479943 20.89479943]\n",
      "[7.36488649 7.36488649]\n",
      "[7.36488649 7.36488649]\n",
      "[8.61627145 8.61627145]\n",
      "[7.94439374 7.94439374]\n",
      "[7.71272931 7.71272931]\n",
      "[8.04456199 8.04456199]\n",
      "[7.65707647 7.65707647]\n",
      "[7.65707647 7.65707647]\n",
      "[7.65707647 7.65707647]\n",
      "[7.39905356 7.39905356]\n",
      "[7.39905356 7.39905356]\n",
      "[7.79193859 7.79193859]\n",
      "[13.06936806 13.06936806]\n",
      "[14.90635728 14.90635728]\n",
      "[15.58493806 15.58493806]\n",
      "[7.99024877 7.99024877]\n",
      "[7.99024877 7.99024877]\n",
      "[7.85025495 7.85025495]\n",
      "[7.85025495 7.85025495]\n",
      "[8.01398869 8.01398869]\n",
      "[8.01398869 8.01398869]\n",
      "[8.01398869 8.01398869]\n",
      "[8.01398869 8.01398869]\n",
      "[7.42530736 7.42530736]\n",
      "[7.91475644 7.91475644]\n",
      "[8.03928129 8.03928129]\n",
      "[8.03928129 8.03928129]\n",
      "[8.04765523 8.04765523]\n",
      "[8.04807173 8.04807173]\n",
      "[8.2834791 8.2834791]\n",
      "[7.97484605 7.97484605]\n",
      "[7.87519194 7.87519194]\n",
      "[7.87519194 7.87519194]\n",
      "[8.04669213 8.04669213]\n",
      "[8.04669213 8.04669213]\n",
      "[7.8178245 7.8178245]\n",
      "[7.8178245 7.8178245]\n",
      "[7.8178245 7.8178245]\n",
      "(0.9794721407624634, 0.990990990990991, 0.957983193277311, 0.9802681992337164)\n"
     ]
    }
   ],
   "source": [
    "population = initialize_population(n)\n",
    "plt.scatter(population[:, 0], population[:, 1], c='b')\n",
    "plt.show()\n",
    "\n",
    "\n",
    "best_whale = whale_optimization_algorithm(wbcd_partitioned['50-50'], population, a=1)\n",
    "print(best_whale)\n",
    "print(basic_svm_fit(wbcd_partitioned['50-50'], best_whale[0], best_whale[1]))"
   ],
   "metadata": {
    "collapsed": false,
    "ExecuteTime": {
     "end_time": "2023-11-08T04:57:12.247866400Z",
     "start_time": "2023-11-08T04:56:56.819039900Z"
    }
   }
  },
  {
   "cell_type": "code",
   "execution_count": 9,
   "outputs": [],
   "source": [],
   "metadata": {
    "collapsed": false,
    "ExecuteTime": {
     "end_time": "2023-11-08T04:46:27.867414100Z",
     "start_time": "2023-11-08T04:46:27.865409700Z"
    }
   }
  }
 ],
 "metadata": {
  "kernelspec": {
   "display_name": "Python 3 (ipykernel)",
   "language": "python",
   "name": "python3"
  },
  "language_info": {
   "codemirror_mode": {
    "name": "ipython",
    "version": 3
   },
   "file_extension": ".py",
   "mimetype": "text/x-python",
   "name": "python",
   "nbconvert_exporter": "python",
   "pygments_lexer": "ipython3",
   "version": "3.11.4"
  }
 },
 "nbformat": 4,
 "nbformat_minor": 4
}
