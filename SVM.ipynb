{
 "cells": [
  {
   "cell_type": "code",
   "execution_count": 2,
   "metadata": {
    "collapsed": true,
    "jupyter": {
     "outputs_hidden": true
    },
    "ExecuteTime": {
     "end_time": "2023-11-05T16:45:06.325743400Z",
     "start_time": "2023-11-05T16:45:06.060162300Z"
    }
   },
   "outputs": [],
   "source": [
    "import numpy as np\n",
    "import pandas as pd\n",
    "\n",
    "wbcd_dataset = pd.read_csv('./dataset/wbcd.data', header=None)\n",
    "wdbc_dataset = pd.read_csv('./dataset/wdbc.data', header=None)\n",
    "\n",
    "random_state = 0"
   ]
  },
  {
   "cell_type": "code",
   "execution_count": 3,
   "metadata": {
    "collapsed": false,
    "jupyter": {
     "outputs_hidden": false
    },
    "ExecuteTime": {
     "end_time": "2023-11-05T16:45:06.340105900Z",
     "start_time": "2023-11-05T16:45:06.325743400Z"
    }
   },
   "outputs": [
    {
     "data": {
      "text/plain": "        0   1   2   3   4   5   6   7   8   9   10\n0  1000025   5   1   1   1   2   1   3   1   1   2\n1  1002945   5   4   4   5   7  10   3   2   1   2\n2  1015425   3   1   1   1   2   2   3   1   1   2\n3  1016277   6   8   8   1   3   4   3   7   1   2\n4  1017023   4   1   1   3   2   1   3   1   1   2",
      "text/html": "<div>\n<style scoped>\n    .dataframe tbody tr th:only-of-type {\n        vertical-align: middle;\n    }\n\n    .dataframe tbody tr th {\n        vertical-align: top;\n    }\n\n    .dataframe thead th {\n        text-align: right;\n    }\n</style>\n<table border=\"1\" class=\"dataframe\">\n  <thead>\n    <tr style=\"text-align: right;\">\n      <th></th>\n      <th>0</th>\n      <th>1</th>\n      <th>2</th>\n      <th>3</th>\n      <th>4</th>\n      <th>5</th>\n      <th>6</th>\n      <th>7</th>\n      <th>8</th>\n      <th>9</th>\n      <th>10</th>\n    </tr>\n  </thead>\n  <tbody>\n    <tr>\n      <th>0</th>\n      <td>1000025</td>\n      <td>5</td>\n      <td>1</td>\n      <td>1</td>\n      <td>1</td>\n      <td>2</td>\n      <td>1</td>\n      <td>3</td>\n      <td>1</td>\n      <td>1</td>\n      <td>2</td>\n    </tr>\n    <tr>\n      <th>1</th>\n      <td>1002945</td>\n      <td>5</td>\n      <td>4</td>\n      <td>4</td>\n      <td>5</td>\n      <td>7</td>\n      <td>10</td>\n      <td>3</td>\n      <td>2</td>\n      <td>1</td>\n      <td>2</td>\n    </tr>\n    <tr>\n      <th>2</th>\n      <td>1015425</td>\n      <td>3</td>\n      <td>1</td>\n      <td>1</td>\n      <td>1</td>\n      <td>2</td>\n      <td>2</td>\n      <td>3</td>\n      <td>1</td>\n      <td>1</td>\n      <td>2</td>\n    </tr>\n    <tr>\n      <th>3</th>\n      <td>1016277</td>\n      <td>6</td>\n      <td>8</td>\n      <td>8</td>\n      <td>1</td>\n      <td>3</td>\n      <td>4</td>\n      <td>3</td>\n      <td>7</td>\n      <td>1</td>\n      <td>2</td>\n    </tr>\n    <tr>\n      <th>4</th>\n      <td>1017023</td>\n      <td>4</td>\n      <td>1</td>\n      <td>1</td>\n      <td>3</td>\n      <td>2</td>\n      <td>1</td>\n      <td>3</td>\n      <td>1</td>\n      <td>1</td>\n      <td>2</td>\n    </tr>\n  </tbody>\n</table>\n</div>"
     },
     "execution_count": 3,
     "metadata": {},
     "output_type": "execute_result"
    }
   ],
   "source": [
    "wbcd_dataset.head()"
   ]
  },
  {
   "cell_type": "code",
   "execution_count": 4,
   "metadata": {
    "collapsed": false,
    "jupyter": {
     "outputs_hidden": false
    },
    "ExecuteTime": {
     "end_time": "2023-11-05T16:45:06.346904Z",
     "start_time": "2023-11-05T16:45:06.338629500Z"
    }
   },
   "outputs": [
    {
     "data": {
      "text/plain": "         0  1      2      3       4       5        6        7       8   \\\n0    842302  M  17.99  10.38  122.80  1001.0  0.11840  0.27760  0.3001   \n1    842517  M  20.57  17.77  132.90  1326.0  0.08474  0.07864  0.0869   \n2  84300903  M  19.69  21.25  130.00  1203.0  0.10960  0.15990  0.1974   \n3  84348301  M  11.42  20.38   77.58   386.1  0.14250  0.28390  0.2414   \n4  84358402  M  20.29  14.34  135.10  1297.0  0.10030  0.13280  0.1980   \n\n        9   ...     22     23      24      25      26      27      28      29  \\\n0  0.14710  ...  25.38  17.33  184.60  2019.0  0.1622  0.6656  0.7119  0.2654   \n1  0.07017  ...  24.99  23.41  158.80  1956.0  0.1238  0.1866  0.2416  0.1860   \n2  0.12790  ...  23.57  25.53  152.50  1709.0  0.1444  0.4245  0.4504  0.2430   \n3  0.10520  ...  14.91  26.50   98.87   567.7  0.2098  0.8663  0.6869  0.2575   \n4  0.10430  ...  22.54  16.67  152.20  1575.0  0.1374  0.2050  0.4000  0.1625   \n\n       30       31  \n0  0.4601  0.11890  \n1  0.2750  0.08902  \n2  0.3613  0.08758  \n3  0.6638  0.17300  \n4  0.2364  0.07678  \n\n[5 rows x 32 columns]",
      "text/html": "<div>\n<style scoped>\n    .dataframe tbody tr th:only-of-type {\n        vertical-align: middle;\n    }\n\n    .dataframe tbody tr th {\n        vertical-align: top;\n    }\n\n    .dataframe thead th {\n        text-align: right;\n    }\n</style>\n<table border=\"1\" class=\"dataframe\">\n  <thead>\n    <tr style=\"text-align: right;\">\n      <th></th>\n      <th>0</th>\n      <th>1</th>\n      <th>2</th>\n      <th>3</th>\n      <th>4</th>\n      <th>5</th>\n      <th>6</th>\n      <th>7</th>\n      <th>8</th>\n      <th>9</th>\n      <th>...</th>\n      <th>22</th>\n      <th>23</th>\n      <th>24</th>\n      <th>25</th>\n      <th>26</th>\n      <th>27</th>\n      <th>28</th>\n      <th>29</th>\n      <th>30</th>\n      <th>31</th>\n    </tr>\n  </thead>\n  <tbody>\n    <tr>\n      <th>0</th>\n      <td>842302</td>\n      <td>M</td>\n      <td>17.99</td>\n      <td>10.38</td>\n      <td>122.80</td>\n      <td>1001.0</td>\n      <td>0.11840</td>\n      <td>0.27760</td>\n      <td>0.3001</td>\n      <td>0.14710</td>\n      <td>...</td>\n      <td>25.38</td>\n      <td>17.33</td>\n      <td>184.60</td>\n      <td>2019.0</td>\n      <td>0.1622</td>\n      <td>0.6656</td>\n      <td>0.7119</td>\n      <td>0.2654</td>\n      <td>0.4601</td>\n      <td>0.11890</td>\n    </tr>\n    <tr>\n      <th>1</th>\n      <td>842517</td>\n      <td>M</td>\n      <td>20.57</td>\n      <td>17.77</td>\n      <td>132.90</td>\n      <td>1326.0</td>\n      <td>0.08474</td>\n      <td>0.07864</td>\n      <td>0.0869</td>\n      <td>0.07017</td>\n      <td>...</td>\n      <td>24.99</td>\n      <td>23.41</td>\n      <td>158.80</td>\n      <td>1956.0</td>\n      <td>0.1238</td>\n      <td>0.1866</td>\n      <td>0.2416</td>\n      <td>0.1860</td>\n      <td>0.2750</td>\n      <td>0.08902</td>\n    </tr>\n    <tr>\n      <th>2</th>\n      <td>84300903</td>\n      <td>M</td>\n      <td>19.69</td>\n      <td>21.25</td>\n      <td>130.00</td>\n      <td>1203.0</td>\n      <td>0.10960</td>\n      <td>0.15990</td>\n      <td>0.1974</td>\n      <td>0.12790</td>\n      <td>...</td>\n      <td>23.57</td>\n      <td>25.53</td>\n      <td>152.50</td>\n      <td>1709.0</td>\n      <td>0.1444</td>\n      <td>0.4245</td>\n      <td>0.4504</td>\n      <td>0.2430</td>\n      <td>0.3613</td>\n      <td>0.08758</td>\n    </tr>\n    <tr>\n      <th>3</th>\n      <td>84348301</td>\n      <td>M</td>\n      <td>11.42</td>\n      <td>20.38</td>\n      <td>77.58</td>\n      <td>386.1</td>\n      <td>0.14250</td>\n      <td>0.28390</td>\n      <td>0.2414</td>\n      <td>0.10520</td>\n      <td>...</td>\n      <td>14.91</td>\n      <td>26.50</td>\n      <td>98.87</td>\n      <td>567.7</td>\n      <td>0.2098</td>\n      <td>0.8663</td>\n      <td>0.6869</td>\n      <td>0.2575</td>\n      <td>0.6638</td>\n      <td>0.17300</td>\n    </tr>\n    <tr>\n      <th>4</th>\n      <td>84358402</td>\n      <td>M</td>\n      <td>20.29</td>\n      <td>14.34</td>\n      <td>135.10</td>\n      <td>1297.0</td>\n      <td>0.10030</td>\n      <td>0.13280</td>\n      <td>0.1980</td>\n      <td>0.10430</td>\n      <td>...</td>\n      <td>22.54</td>\n      <td>16.67</td>\n      <td>152.20</td>\n      <td>1575.0</td>\n      <td>0.1374</td>\n      <td>0.2050</td>\n      <td>0.4000</td>\n      <td>0.1625</td>\n      <td>0.2364</td>\n      <td>0.07678</td>\n    </tr>\n  </tbody>\n</table>\n<p>5 rows × 32 columns</p>\n</div>"
     },
     "execution_count": 4,
     "metadata": {},
     "output_type": "execute_result"
    }
   ],
   "source": [
    "wdbc_dataset.head()"
   ]
  },
  {
   "cell_type": "markdown",
   "metadata": {
    "collapsed": false,
    "jupyter": {
     "outputs_hidden": false
    }
   },
   "source": [
    "## Data preprocessing"
   ]
  },
  {
   "cell_type": "code",
   "execution_count": 5,
   "metadata": {
    "collapsed": false,
    "jupyter": {
     "outputs_hidden": false
    },
    "ExecuteTime": {
     "end_time": "2023-11-05T16:45:06.377345Z",
     "start_time": "2023-11-05T16:45:06.347928700Z"
    }
   },
   "outputs": [
    {
     "name": "stdout",
     "output_type": "stream",
     "text": [
      "removed 16 incomplete records: [23, 40, 139, 145, 158, 164, 235, 249, 275, 292, 294, 297, 315, 321, 411, 617]\n"
     ]
    }
   ],
   "source": [
    "# wbcd_dataset\n",
    "wbcd_dataset = wbcd_dataset.drop(0, axis=1)  # drop the id column\n",
    "# if record contains ? value for any column (feature incomplete), delete the record\n",
    "incomplete_records = []\n",
    "for index, row in wbcd_dataset.iterrows():\n",
    "    if '?' in row.values:\n",
    "        incomplete_records.append(index)\n",
    "wbcd_dataset = wbcd_dataset.drop(incomplete_records, axis=0)\n",
    "print(f'removed {len(incomplete_records)} incomplete records: {incomplete_records}')"
   ]
  },
  {
   "cell_type": "code",
   "execution_count": 6,
   "metadata": {
    "collapsed": false,
    "jupyter": {
     "outputs_hidden": false
    },
    "ExecuteTime": {
     "end_time": "2023-11-05T16:45:06.420952800Z",
     "start_time": "2023-11-05T16:45:06.365321Z"
    }
   },
   "outputs": [
    {
     "name": "stdout",
     "output_type": "stream",
     "text": [
      "50-50\n",
      "Train set\n",
      "number of records: 342\n",
      "B: 219\n",
      "M: 123\n",
      "Test set\n",
      "number of records: 341\n",
      "B: 225\n",
      "M: 116\n",
      "60-40\n",
      "Train set\n",
      "number of records: 410\n",
      "B: 268\n",
      "M: 142\n",
      "Test set\n",
      "number of records: 273\n",
      "B: 176\n",
      "M: 97\n",
      "10-CV\n",
      "fold 1\n",
      "number of records: 68\n",
      "B: 46\n",
      "M: 22\n",
      "fold 2\n",
      "number of records: 68\n",
      "B: 43\n",
      "M: 25\n",
      "fold 3\n",
      "number of records: 68\n",
      "B: 42\n",
      "M: 26\n",
      "fold 4\n",
      "number of records: 68\n",
      "B: 38\n",
      "M: 30\n",
      "fold 5\n",
      "number of records: 68\n",
      "B: 45\n",
      "M: 23\n",
      "fold 6\n",
      "number of records: 68\n",
      "B: 46\n",
      "M: 22\n",
      "fold 7\n",
      "number of records: 68\n",
      "B: 43\n",
      "M: 25\n",
      "fold 8\n",
      "number of records: 68\n",
      "B: 44\n",
      "M: 24\n",
      "fold 9\n",
      "number of records: 68\n",
      "B: 42\n",
      "M: 26\n",
      "fold 10\n",
      "number of records: 68\n",
      "B: 37\n",
      "M: 31\n"
     ]
    }
   ],
   "source": [
    "# wbcd partitioning\n",
    "# 50-50\n",
    "train_50 = wbcd_dataset.sample(frac=0.5, random_state=random_state)\n",
    "test_50 = wbcd_dataset.drop(train_50.index)\n",
    "# 60-40\n",
    "train_60 = wbcd_dataset.sample(frac=0.6, random_state=random_state)\n",
    "test_60 = wbcd_dataset.drop(train_60.index)\n",
    "# 10-CV\n",
    "train_10cv = wbcd_dataset.copy()\n",
    "test_10cv = []\n",
    "for i in range(10):\n",
    "    test_10cv.append(train_10cv.sample(frac=0.1, random_state=(random_state + i)))\n",
    "\n",
    "wbcd_partitioned = {\n",
    "    '50-50': {\n",
    "        'train': train_50,\n",
    "        'test': test_50\n",
    "    },\n",
    "    '60-40': {\n",
    "        'train': train_60,\n",
    "        'test': test_60\n",
    "    },\n",
    "    '10-CV': {\n",
    "        'train': train_10cv,\n",
    "        'test': test_10cv\n",
    "    }\n",
    "}\n",
    "\n",
    "\n",
    "def show_wbcd_statistic_data(dataset) -> None:\n",
    "    print(f'number of records: {len(dataset)}')\n",
    "    print(f'B: {len(dataset[dataset[10] == 2])}')\n",
    "    print(f'M: {len(dataset[dataset[10] == 4])}')\n",
    "\n",
    "\n",
    "for key, val in wbcd_partitioned.items():\n",
    "    if key == '10-CV':\n",
    "        print(f'10-CV')\n",
    "        for i in range(10):\n",
    "            print(f'fold {i + 1}')\n",
    "            show_wbcd_statistic_data(val['test'][i])\n",
    "    else:\n",
    "        print(key)\n",
    "        print('Train set')\n",
    "        show_wbcd_statistic_data(val['train'])\n",
    "        print('Test set')\n",
    "        show_wbcd_statistic_data(val['test'])"
   ]
  },
  {
   "cell_type": "markdown",
   "metadata": {
    "collapsed": false,
    "jupyter": {
     "outputs_hidden": false
    }
   },
   "source": [
    "## Basic SVM"
   ]
  },
  {
   "cell_type": "code",
   "execution_count": 12,
   "metadata": {
    "collapsed": false,
    "jupyter": {
     "outputs_hidden": false
    },
    "ExecuteTime": {
     "end_time": "2023-11-05T16:47:45.040401400Z",
     "start_time": "2023-11-05T16:47:45.008702600Z"
    }
   },
   "outputs": [
    {
     "name": "stdout",
     "output_type": "stream",
     "text": [
      "50-50\n",
      "accuracy: 0.9618768328445748, sensitivity: 0.9529914529914529, specificity: 0.9813084112149533, auc: 0.9481417624521074\n"
     ]
    }
   ],
   "source": [
    "from sklearn.svm import SVC\n",
    "from sklearn.metrics import accuracy_score, confusion_matrix, roc_auc_score\n",
    "\n",
    "\n",
    "def basic_svm_fit(partition: dict, c=None, sigma=None) -> tuple[float, float, float, float]:\n",
    "    train = partition['train']\n",
    "    test = partition['test']\n",
    "    train_x = train.drop(10, axis=1)\n",
    "    train_y = train[10]\n",
    "    test_x = test.drop(10, axis=1)\n",
    "    test_y = test[10]\n",
    "    if sigma is not None:\n",
    "        gamma = 1 / (sigma ** 2)\n",
    "        svm = SVC(C=c, kernel='rbf', random_state=random_state, gamma=gamma)\n",
    "    else:\n",
    "        svm = SVC(kernel='rbf', random_state=random_state)\n",
    "    svm.fit(train_x, train_y)\n",
    "    pred_y = svm.predict(test_x)\n",
    "    acc = accuracy_score(test_y, pred_y)\n",
    "    tp, fp, fn, tn = confusion_matrix(test_y, pred_y).ravel()\n",
    "    sensitivity = tp / (tp + fn)\n",
    "    specificity = tn / (tn + fp)\n",
    "    auc = roc_auc_score(test_y, pred_y)\n",
    "    return acc, sensitivity, specificity, auc\n",
    "\n",
    "\n",
    "# def basic_svm_fit_10cv(partition: dict) -> tuple[float, float, float, float]:\n",
    "\n",
    "print('50-50')\n",
    "c = np.random.randint(1, 1000)\n",
    "sigma = np.random.randint(1, 100)\n",
    "acc, sensitivity, specificity, auc = basic_svm_fit(wbcd_partitioned['50-50'], sigma, c)\n",
    "print(f'accuracy: {acc}, sensitivity: {sensitivity}, specificity: {specificity}, auc: {auc}')"
   ]
  },
  {
   "cell_type": "markdown",
   "metadata": {
    "collapsed": false,
    "jupyter": {
     "outputs_hidden": false
    }
   },
   "source": [
    "## Whales Optimization Algorithm"
   ]
  },
  {
   "cell_type": "code",
   "execution_count": 8,
   "metadata": {
    "collapsed": false,
    "jupyter": {
     "outputs_hidden": false
    },
    "ExecuteTime": {
     "end_time": "2023-11-05T16:45:07.176516800Z",
     "start_time": "2023-11-05T16:45:07.173668800Z"
    }
   },
   "outputs": [],
   "source": [
    "# Initialize the parameters\n",
    "# a. Foraging of prey\n",
    "n = 50  # The population size of whales\n",
    "num_classes = 2\n",
    "\n",
    "\n",
    "def initialize_population(population_size: int, c_constraint=(1, 1000), sigma_constraint=(1, 100)) -> np.ndarray:\n",
    "    \"\"\"\n",
    "    Initialize the whales population, each whale is represented by a vector of two elements (c, sigma). Both c and sigma are the hyperparameters of SVM.\n",
    "    :param population_size: number of whales\n",
    "    :param c_constraint: (C_min, C_max), default (1, 1000)\n",
    "    :param sigma_constraint: (sigma_min, sigma_max), default (1, 100)\n",
    "    :return: ndarray of shape (population_size, 2)\n",
    "    \"\"\"\n",
    "    population = np.zeros((population_size, 2))\n",
    "    for i in range(population_size):\n",
    "        population[i][0] = np.random.randint(c_constraint[0], c_constraint[1])\n",
    "        population[i][1] = np.random.randint(sigma_constraint[0], sigma_constraint[1])\n",
    "    return population\n",
    "\n",
    "\n",
    "def update_positions(population: np.ndarray, population_best: np.ndarray, b: float):\n",
    "    return NotImplementedError\n",
    "\n",
    "\n",
    "def apply_constraint(whale, c_constraint=(1, 1000), sigma_constraint=(1, 100)) -> np.ndarray:\n",
    "    \"\"\"\n",
    "    Apply the constraints to the whale\n",
    "    :param whale: ndarray of shape (2,)\n",
    "    :param c_constraint: (C_min, C_max), default (1, 1000)\n",
    "    :param sigma_constraint: (sigma_min, sigma_max), default (1, 100)\n",
    "    :return: ndarray of shape (2,)\n",
    "    \"\"\"\n",
    "    whale[0] = np.clip(whale[0], c_constraint[0], c_constraint[1])\n",
    "    whale[1] = np.clip(whale[1], sigma_constraint[0], sigma_constraint[1])\n",
    "    return whale\n"
   ]
  },
  {
   "cell_type": "code",
   "execution_count": 15,
   "outputs": [],
   "source": [
    "rng = np.random.default_rng(seed=random_state)  # random number generator\n",
    "\n",
    "\n",
    "def whale_optimization_algorithm(partition, population, max_iteration=50, b=2, a=0.25):\n",
    "    \"\"\"\n",
    "    Whale Optimization Algorithm\n",
    "    :param partition: dataset partition\n",
    "    :param population: whales population\n",
    "    :param max_iteration: maximum number of iterations\n",
    "    :param b: variable used in Eq.2: linearly decreases from 2 (by default =2) to 0\n",
    "    :param a: *Not mentioned default value in the paper* constant to determine the spiral shape.\n",
    "    :return:\n",
    "    \"\"\"\n",
    "    b_step = b / max_iteration\n",
    "    current_iteration = 0\n",
    "\n",
    "    fitness = np.array([basic_svm_fit(partition, c, sigma)[0] for c, sigma in population])\n",
    "    best_whale = population[np.argmax(fitness)]\n",
    "    while current_iteration < max_iteration:\n",
    "        # using whales C and sigma to train SVMs and calculate the CA as fitness\n",
    "        for idx, whale in enumerate(population):\n",
    "            t = rng.random()\n",
    "            if t < 0.5:\n",
    "                B = 2 * b * rng.random() - b\n",
    "                if np.linalg.norm(B) < 1:\n",
    "                    # update the position by Eq.1\n",
    "                    population[idx] = whale - B * np.linalg.norm(2 * rng.random() * best_whale - whale)\n",
    "                else:\n",
    "                    # update the position by Eq.5\n",
    "                    population[idx] = population[np.random.randint(0, len(population))] - B * np.linalg.norm(2 * rng.random() * best_whale - whale)\n",
    "                    pass\n",
    "            else:\n",
    "                # update the position by Eq.4, t>=1\n",
    "                l = rng.random()\n",
    "                population[idx] = np.linalg.norm(best_whale - whale) * np.exp(a * l) * np.cos(2 * np.pi * l) + best_whale\n",
    "            # check if any search agent goes beyond the search space and amend it.\n",
    "            population[idx] = apply_constraint(population[idx])\n",
    "\n",
    "        b -= b_step\n",
    "\n",
    "        # update the fitness\n",
    "        fitness = np.array([basic_svm_fit(partition, c, sigma)[0] for c, sigma in population])\n",
    "        best_whale = population[np.argmax(fitness)]\n",
    "        current_iteration += 1\n",
    "\n",
    "    return best_whale\n",
    "\n",
    "\n",
    "\n",
    "\n",
    "\n"
   ],
   "metadata": {
    "collapsed": false,
    "ExecuteTime": {
     "end_time": "2023-11-05T16:51:42.938025100Z",
     "start_time": "2023-11-05T16:51:42.933442900Z"
    }
   }
  },
  {
   "cell_type": "code",
   "execution_count": 16,
   "outputs": [
    {
     "name": "stdout",
     "output_type": "stream",
     "text": [
      "[7.37592248 7.80060737]\n",
      "(0.9794721407624634, 0.990990990990991, 0.957983193277311, 0.9802681992337164)\n"
     ]
    }
   ],
   "source": [
    "population = initialize_population(n)\n",
    "best_whale = whale_optimization_algorithm(wbcd_partitioned['50-50'], population)\n",
    "print(best_whale)\n",
    "print(basic_svm_fit(wbcd_partitioned['50-50'], best_whale[0], best_whale[1]))"
   ],
   "metadata": {
    "collapsed": false,
    "ExecuteTime": {
     "end_time": "2023-11-05T16:51:58.716178100Z",
     "start_time": "2023-11-05T16:51:44.983663Z"
    }
   }
  },
  {
   "cell_type": "code",
   "execution_count": 10,
   "outputs": [],
   "source": [],
   "metadata": {
    "collapsed": false,
    "ExecuteTime": {
     "end_time": "2023-11-05T16:45:21.658046600Z",
     "start_time": "2023-11-05T16:45:21.656085400Z"
    }
   }
  }
 ],
 "metadata": {
  "kernelspec": {
   "display_name": "Python 3 (ipykernel)",
   "language": "python",
   "name": "python3"
  },
  "language_info": {
   "codemirror_mode": {
    "name": "ipython",
    "version": 3
   },
   "file_extension": ".py",
   "mimetype": "text/x-python",
   "name": "python",
   "nbconvert_exporter": "python",
   "pygments_lexer": "ipython3",
   "version": "3.11.4"
  }
 },
 "nbformat": 4,
 "nbformat_minor": 4
}
